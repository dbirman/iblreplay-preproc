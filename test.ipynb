{
 "cells": [
  {
   "cell_type": "code",
   "execution_count": 18,
   "id": "733f7c53-04cc-4d4c-bbe8-5c34bf3f656b",
   "metadata": {},
   "outputs": [],
   "source": [
    "from one.api import ONE\n",
    "one = ONE(base_url='https://alyx.internationalbrainlab.org')\n",
    "import numpy as np\n",
    "from brainbox.io.one import SpikeSortingLoader\n",
    "from ibllib.atlas import AllenAtlas\n",
    "atlas = AllenAtlas(25)\n",
    "import pandas as pd"
   ]
  },
  {
   "cell_type": "code",
   "execution_count": 3,
   "id": "8e183f00-1bbe-43fc-8c9d-7f2a3ce62dc8",
   "metadata": {},
   "outputs": [],
   "source": [
    "pid = '0851db85-2889-4070-ac18-a40e8ebd96ba'"
   ]
  },
  {
   "cell_type": "code",
   "execution_count": 11,
   "id": "1898dfa2-380c-4cbb-a60e-2cbaa103a751",
   "metadata": {},
   "outputs": [],
   "source": [
    "_, probe = one.pid2eid(pid)"
   ]
  },
  {
   "cell_type": "code",
   "execution_count": 10,
   "id": "2d002c39-ac6e-4c86-af47-327f3a25fe14",
   "metadata": {},
   "outputs": [
    {
     "name": "stdout",
     "output_type": "stream",
     "text": [
      "73918ae1-e4fd-4c18-b132-00cb555b1ad2\n",
      "probe01\n"
     ]
    }
   ],
   "source": [
    "print(eid)\n",
    "print(probe)"
   ]
  },
  {
   "cell_type": "code",
   "execution_count": 5,
   "id": "ba6b4a00-c07c-4fe2-85c9-a945221e8ab8",
   "metadata": {},
   "outputs": [],
   "source": [
    "# How to get a PID out\n",
    "sessions = one.alyx.rest('insertions', 'list', session=eid)"
   ]
  },
  {
   "cell_type": "code",
   "execution_count": 6,
   "id": "875a03fe-c077-4d81-be44-e412a8926541",
   "metadata": {},
   "outputs": [
    {
     "name": "stdout",
     "output_type": "stream",
     "text": [
      "0851db85-2889-4070-ac18-a40e8ebd96ba\n",
      "c9fb5e2e-bd92-41d8-8b7e-394005860a1e\n"
     ]
    }
   ],
   "source": [
    "print(sessions[0]['id'])\n",
    "print(sessions[1]['id'])"
   ]
  },
  {
   "cell_type": "code",
   "execution_count": 7,
   "id": "cf46ea47-2079-4d0b-8b48-caad9cc8f096",
   "metadata": {},
   "outputs": [
    {
     "name": "stdout",
     "output_type": "stream",
     "text": [
      "0851db85-2889-4070-ac18-a40e8ebd96ba probe01 alf/probe01/pykilosort alf\n",
      "c9fb5e2e-bd92-41d8-8b7e-394005860a1e probe00 alf/probe00/pykilosort alf\n"
     ]
    }
   ],
   "source": [
    "insertions = one.alyx.rest('insertions', 'list', session=eid)\n",
    "\n",
    "pids = [i['id'] for i in insertions]\n",
    "for pid in pids:\n",
    "    ssl = SpikeSortingLoader(pid=pid, one=one)\n",
    "    spikes, clusters, channels = ssl.load_spike_sorting()\n",
    "    print(f\"{pid} {ssl.pname} {ssl.collection} {ssl.histology}\")"
   ]
  },
  {
   "cell_type": "code",
   "execution_count": 8,
   "id": "7cebed1a-505e-4eb0-9de2-2cd8eabcf691",
   "metadata": {},
   "outputs": [],
   "source": [
    "# try converting channel positions to mlapdv\n",
    "x = channels['x']\n",
    "y = channels['y']\n",
    "z = channels['z']\n",
    "xyz_coords = []\n",
    "for xv,yv,zv in zip(x,y,z):\n",
    "    xyz_coords.append([xv,yv,zv])\n",
    "mlapdv = atlas.xyz2ccf(xyz_coords)"
   ]
  },
  {
   "cell_type": "code",
   "execution_count": 9,
   "id": "54b47af6-081d-4627-9f5e-bce24b472415",
   "metadata": {},
   "outputs": [
    {
     "data": {
      "text/plain": [
       "array([[2843., 8128., 6483.],\n",
       "       [2843., 8128., 6483.],\n",
       "       [2849., 8129., 6462.],\n",
       "       ...,\n",
       "       [3459., 8024., 2221.],\n",
       "       [3461., 8024., 2198.],\n",
       "       [3461., 8024., 2198.]])"
      ]
     },
     "execution_count": 9,
     "metadata": {},
     "output_type": "execute_result"
    }
   ],
   "source": [
    "mlapdv"
   ]
  },
  {
   "cell_type": "code",
   "execution_count": 15,
   "id": "7d7a46cf-0fe5-4b18-8aad-7936c3cef515",
   "metadata": {},
   "outputs": [],
   "source": [
    "clusters_coords = mlapdv[clusters.channels]"
   ]
  },
  {
   "cell_type": "code",
   "execution_count": 17,
   "id": "54da267c-6681-450b-abd4-d6e2ca0f8f71",
   "metadata": {},
   "outputs": [
    {
     "data": {
      "text/plain": [
       "641"
      ]
     },
     "execution_count": 17,
     "metadata": {},
     "output_type": "execute_result"
    }
   ],
   "source": [
    "len(clusters_coords)"
   ]
  },
  {
   "cell_type": "code",
   "execution_count": 22,
   "id": "14cc9cd8-88af-4b15-abde-287a400612ed",
   "metadata": {},
   "outputs": [],
   "source": [
    "pd.DataFrame(clusters_coords,columns=['ml','ap','dv']).to_csv('data/'+pid+'.csv')"
   ]
  },
  {
   "cell_type": "code",
   "execution_count": null,
   "id": "b107e06f-b018-4cb1-ac9a-69c04391d1d6",
   "metadata": {},
   "outputs": [],
   "source": []
  }
 ],
 "metadata": {
  "kernelspec": {
   "display_name": "Python 3 (ipykernel)",
   "language": "python",
   "name": "python3"
  },
  "language_info": {
   "codemirror_mode": {
    "name": "ipython",
    "version": 3
   },
   "file_extension": ".py",
   "mimetype": "text/x-python",
   "name": "python",
   "nbconvert_exporter": "python",
   "pygments_lexer": "ipython3",
   "version": "3.9.10"
  }
 },
 "nbformat": 4,
 "nbformat_minor": 5
}
