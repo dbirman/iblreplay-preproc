{
 "cells": [
  {
   "cell_type": "code",
   "execution_count": 1,
   "id": "44a5ab1f-6c7a-4c60-af07-aa06afd34321",
   "metadata": {},
   "outputs": [],
   "source": [
    "'''In this notebook we will download all of the IBL video files and then compress them to 64x? pixels and 30fps\n",
    "  then we will save them to a local folder from which we can run an http server'''\n",
    "import numpy as np\n",
    "import requests\n",
    "import subprocess"
   ]
  },
  {
   "cell_type": "code",
   "execution_count": 2,
   "id": "556d4eb5-b740-40f8-81a7-3805ff9f4aef",
   "metadata": {},
   "outputs": [
    {
     "name": "stderr",
     "output_type": "stream",
     "text": [
      "C:\\Users\\Dan\\.conda\\envs\\iblenv\\lib\\site-packages\\one\\api.py:1294: UserWarning: Newer cache tables require ONE version 1.10.0 or greater\n",
      "  warnings.warn(f'Newer cache tables require ONE version {min_version} or greater')\n"
     ]
    }
   ],
   "source": [
    "from one.api import ONE\n",
    "one = ONE(base_url='https://alyx.internationalbrainlab.org')"
   ]
  },
  {
   "cell_type": "code",
   "execution_count": 3,
   "id": "657d6012-5269-479f-82f0-fa5c371d8f6f",
   "metadata": {},
   "outputs": [
    {
     "name": "stdout",
     "output_type": "stream",
     "text": [
      "73918ae1-e4fd-4c18-b132-00cb555b1ad2\n"
     ]
    }
   ],
   "source": [
    "eid = '73918ae1-e4fd-4c18-b132-00cb555b1ad2'\n",
    "print(eid)"
   ]
  },
  {
   "cell_type": "code",
   "execution_count": 4,
   "id": "b2a4add0-d313-4569-85d0-efc4e333d952",
   "metadata": {},
   "outputs": [],
   "source": [
    "with open('username.txt') as f:\n",
    "    username = f.readlines()\n",
    "    username = username[0]\n",
    "with open('password.txt') as f:\n",
    "    password = f.readlines()\n",
    "    password = password[0]\n"
   ]
  },
  {
   "cell_type": "code",
   "execution_count": 26,
   "id": "9c7f864b-4dd2-4095-b901-f79e056cf495",
   "metadata": {},
   "outputs": [
    {
     "name": "stdout",
     "output_type": "stream",
     "text": [
      "https://ibl.flatironinstitute.org/wittenlab/Subjects/ibl_witten_27/2021-01-21/001/raw_video_data/_iblrig_leftCamera.raw.c29d01f9-3f65-4d09-86fe-43fcd0e85e30.mp4\n",
      "251607\n",
      "[60.12024048 60.         60.         ... 60.12024048 60.\n",
      " 60.12024048]\n",
      "https://ibl.flatironinstitute.org/wittenlab/Subjects/ibl_witten_27/2021-01-21/001/raw_video_data/_iblrig_rightCamera.raw.417ea728-8022-4656-863d-eda7f83a2a3f.mp4\n",
      "628461\n",
      "[150.         150.         150.         ... 150.00000001 149.99999999\n",
      " 150.00000001]\n",
      "https://ibl.flatironinstitute.org/wittenlab/Subjects/ibl_witten_27/2021-01-21/001/raw_video_data/_iblrig_bodyCamera.raw.a59ffd54-46d5-4560-a6e2-6847dbfdeca5.mp4\n",
      "126332\n",
      "[30.15075377 30.15075377 30.15075377 ... 30.12048193 30.15075377\n",
      " 30.15075377]\n"
     ]
    }
   ],
   "source": [
    "dsets = one.type2datasets(eid, '_iblrig_Camera.raw', details=True)\n",
    "videos = ['left','right','body']\n",
    "\n",
    "# opener.addheaders[]\n",
    "\n",
    "for video in videos:\n",
    "  dset = next(d for idx, d in dsets.iterrows() if video in d['rel_path'])\n",
    "  url = one.record2url(dset)\n",
    "  print(url)\n",
    "  ftext = eid + '_' + video\n",
    "  # videoFile = 'flatironVideos/' +ftext + \".mp4\"\n",
    "  # open(videoFile, 'wb').write(requests.get(url, auth=(username, password)).content)\n",
    "  # also get the timestamps\n",
    "  # To get timestamps for video data so you can find out what times each frame is at\n",
    "  dsets_time = one.type2datasets(eid, 'camera.times')\n",
    "  dset = next(d for d in dsets_time if video in d)\n",
    "  # load data\n",
    "  times = one.load_dataset(eid, dset)\n",
    "  print(len(times))\n",
    "  print(1/np.diff(times))\n",
    "  with open('C:\\\\proj\\\\VBL\\\\iblreplay-preproc\\\\data\\\\flatiron_videos\\\\'+ftext+'_times.txt','w') as f:\n",
    "    f.write(str(times[0]))\n",
    "  np.save('data/flatiron_videos/'+ftext+\"_times.npy\",times)\n",
    "  # call = subprocess.call(['ffmpeg',\n",
    "  #                '-i', 'C:\\\\proj\\\\VBL\\\\iblreplay-preproc\\\\flatironVideos\\\\'+ftext+'.mp4',\n",
    "  #                '-vf', 'fps=30,scale=64:52', \n",
    "  #                'C:\\\\proj\\\\VBL\\\\iblreplay-preproc\\\\data\\\\flatiron_videos\\\\'+ftext+'_scaled'+'.mp4'])"
   ]
  },
  {
   "cell_type": "code",
   "execution_count": 10,
   "id": "82765bed-962e-4816-93c5-81faf0c3d316",
   "metadata": {},
   "outputs": [
    {
     "data": {
      "text/plain": [
       "array([0.03316667, 0.03316667, 0.03316667, ..., 0.0332    , 0.03316667,\n",
       "       0.03316667])"
      ]
     },
     "execution_count": 10,
     "metadata": {},
     "output_type": "execute_result"
    }
   ],
   "source": [
    "np.diff(times)"
   ]
  },
  {
   "cell_type": "code",
   "execution_count": 29,
   "id": "d1f41baf-2291-4325-b29c-6930c303f348",
   "metadata": {},
   "outputs": [
    {
     "data": {
      "text/plain": [
       "30.148357776257335"
      ]
     },
     "execution_count": 29,
     "metadata": {},
     "output_type": "execute_result"
    }
   ],
   "source": [
    "time = np.load('data/flatiron_videos/'+eid + '_' + 'body' +\"_times.npy\")\n",
    "np.mean(1/np.diff(times))"
   ]
  },
  {
   "cell_type": "code",
   "execution_count": 11,
   "id": "e2eedcf9-30c0-4928-a71e-3377655d4c59",
   "metadata": {},
   "outputs": [
    {
     "data": {
      "text/plain": [
       "0.03333333333333333"
      ]
     },
     "execution_count": 11,
     "metadata": {},
     "output_type": "execute_result"
    }
   ],
   "source": [
    "1/30"
   ]
  },
  {
   "cell_type": "code",
   "execution_count": 12,
   "id": "c80fd143-864e-491c-b040-0712fd14cd3d",
   "metadata": {},
   "outputs": [
    {
     "data": {
      "text/plain": [
       "0.016666666666666666"
      ]
     },
     "execution_count": 12,
     "metadata": {},
     "output_type": "execute_result"
    }
   ],
   "source": [
    "1/60"
   ]
  },
  {
   "cell_type": "code",
   "execution_count": 13,
   "id": "ac63cd6d-72f9-455a-98b4-99cdb996c1cb",
   "metadata": {},
   "outputs": [
    {
     "data": {
      "text/plain": [
       "array([101.2466    , 101.27976667, 101.31293333, 101.3461    ,\n",
       "       101.37926667, 101.41243333, 101.4456    , 101.47876667,\n",
       "       101.51193333, 101.5451    ])"
      ]
     },
     "execution_count": 13,
     "metadata": {},
     "output_type": "execute_result"
    }
   ],
   "source": [
    "times[0:10]"
   ]
  },
  {
   "cell_type": "code",
   "execution_count": 35,
   "id": "d983ca19-e8b0-4903-bb04-c19e665f9a6f",
   "metadata": {},
   "outputs": [
    {
     "name": "stdout",
     "output_type": "stream",
     "text": [
      "1759.731408279156\n",
      "1759.7117666666666\n"
     ]
    }
   ],
   "source": [
    "print(times[0]+1/30.148*50000)\n",
    "print(times[50000])"
   ]
  },
  {
   "cell_type": "code",
   "execution_count": 19,
   "id": "f0c022bb-d6df-40ef-bcd5-753f067efeca",
   "metadata": {},
   "outputs": [
    {
     "data": {
      "text/plain": [
       "array([30.15075377, 30.15075377, 30.15075377, ..., 30.12048193,\n",
       "       30.15075377, 30.15075377])"
      ]
     },
     "execution_count": 19,
     "metadata": {},
     "output_type": "execute_result"
    }
   ],
   "source": [
    "1/np.diff(times)"
   ]
  },
  {
   "cell_type": "code",
   "execution_count": null,
   "id": "b28931de-90c8-48a1-aa85-196c2bd36ed5",
   "metadata": {},
   "outputs": [],
   "source": []
  }
 ],
 "metadata": {
  "kernelspec": {
   "display_name": "Python 3 (ipykernel)",
   "language": "python",
   "name": "python3"
  },
  "language_info": {
   "codemirror_mode": {
    "name": "ipython",
    "version": 3
   },
   "file_extension": ".py",
   "mimetype": "text/x-python",
   "name": "python",
   "nbconvert_exporter": "python",
   "pygments_lexer": "ipython3",
   "version": "3.9.10"
  }
 },
 "nbformat": 4,
 "nbformat_minor": 5
}
